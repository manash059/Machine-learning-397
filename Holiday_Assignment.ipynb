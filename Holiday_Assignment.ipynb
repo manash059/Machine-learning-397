{
  "nbformat": 4,
  "nbformat_minor": 0,
  "metadata": {
    "colab": {
      "provenance": [],
      "include_colab_link": true
    },
    "kernelspec": {
      "name": "python3",
      "display_name": "Python 3"
    },
    "language_info": {
      "name": "python"
    }
  },
  "cells": [
    {
      "cell_type": "markdown",
      "metadata": {
        "id": "view-in-github",
        "colab_type": "text"
      },
      "source": [
        "<a href=\"https://colab.research.google.com/github/manash059/Machine-learning-397/blob/main/Holiday_Assignment.ipynb\" target=\"_parent\"><img src=\"https://colab.research.google.com/assets/colab-badge.svg\" alt=\"Open In Colab\"/></a>"
      ]
    },
    {
      "cell_type": "code",
      "execution_count": null,
      "metadata": {
        "colab": {
          "base_uri": "https://localhost:8080/"
        },
        "id": "G9CGi_molzOi",
        "outputId": "cb480b74-3ba0-4516-ef20-b8971e91fc32"
      },
      "outputs": [
        {
          "output_type": "stream",
          "name": "stdout",
          "text": [
            "[10.0, 30.0, 30.0, 30.0, 50.0]\n"
          ]
        }
      ],
      "source": [
        "import numpy as np #1st Question\n",
        "numbers = np.array([10, None, 30, None, 50], dtype=float)\n",
        "mean_value = np.nanmean(numbers)\n",
        "numbers = np.where(np.isnan(numbers), mean_value, numbers)\n",
        "print(numbers.tolist())"
      ]
    },
    {
      "cell_type": "code",
      "source": [
        "import numpy as np  #1st Question --User Input\n",
        "numbers = input(\"Enter numbers: \")\n",
        "numbers = [float(x) if x.lower() != 'none' else None for x in numbers.split()]\n",
        "numbers = np.array(numbers, dtype=float)\n",
        "mean_value = np.nanmean(numbers)\n",
        "numbers = np.where(np.isnan(numbers), mean_value, numbers)\n",
        "print(numbers.tolist())\n"
      ],
      "metadata": {
        "colab": {
          "base_uri": "https://localhost:8080/"
        },
        "id": "M6uQ18ihl-c5",
        "outputId": "aa91e0c0-a8f5-4578-cb39-21a638ebdf70"
      },
      "execution_count": null,
      "outputs": [
        {
          "output_type": "stream",
          "name": "stdout",
          "text": [
            "Enter numbers: 10\n",
            "[10.0]\n"
          ]
        }
      ]
    },
    {
      "cell_type": "code",
      "source": [
        "def min_max_scaling(numbers):  #2nd Question\n",
        "    min_val = min(numbers)\n",
        "    max_val = max(numbers)\n",
        "    return [(x - min_val) / (max_val - min_val) for x in numbers]\n",
        "numbers = [20, 40, 60, 80, 100]\n",
        "scaled_numbers = min_max_scaling(numbers)\n",
        "print(scaled_numbers)\n"
      ],
      "metadata": {
        "colab": {
          "base_uri": "https://localhost:8080/"
        },
        "id": "ncdnyQ05mAed",
        "outputId": "628ef576-94e8-4624-fe56-c7bbab81f469"
      },
      "execution_count": null,
      "outputs": [
        {
          "output_type": "stream",
          "name": "stdout",
          "text": [
            "[0.0, 0.25, 0.5, 0.75, 1.0]\n"
          ]
        }
      ]
    },
    {
      "cell_type": "code",
      "source": [
        "def min_max_scaling(numbers):  #2nd Question--User Input\n",
        "    min_val = min(numbers)\n",
        "    max_val = max(numbers)\n",
        "    return [(x - min_val) / (max_val - min_val) for x in numbers]\n",
        "numbers = list(map(float, input(\"Enter numbers: \").split()))\n",
        "scaled_numbers = min_max_scaling(numbers)\n",
        "print(scaled_numbers)\n"
      ],
      "metadata": {
        "colab": {
          "base_uri": "https://localhost:8080/"
        },
        "id": "kMFZtb1MmCxC",
        "outputId": "867f9122-cf2a-46eb-f8f1-3586b70487e2"
      },
      "execution_count": null,
      "outputs": [
        {
          "output_type": "stream",
          "name": "stdout",
          "text": [
            "Enter numbers: 20 40 60 80 100\n",
            "[0.0, 0.25, 0.5, 0.75, 1.0]\n"
          ]
        }
      ]
    },
    {
      "cell_type": "code",
      "source": [
        "def binarize(numbers, threshold):  #3rd Question\n",
        "    return [1 if x >= threshold else 0 for x in numbers]\n",
        "numbers = [1.5, 2.3, 0.8, 3.0]\n",
        "threshold = 2.0\n",
        "binarized_numbers = binarize(numbers, threshold)\n",
        "print(binarized_numbers)\n"
      ],
      "metadata": {
        "colab": {
          "base_uri": "https://localhost:8080/"
        },
        "id": "j330vVGimKSO",
        "outputId": "8ad9a280-af04-4efc-e6bf-c8742395fee5"
      },
      "execution_count": null,
      "outputs": [
        {
          "output_type": "stream",
          "name": "stdout",
          "text": [
            "[0, 1, 0, 1]\n"
          ]
        }
      ]
    },
    {
      "cell_type": "code",
      "source": [
        "def binarize(numbers, threshold):   #3rd Question--User Input\n",
        "    return [1 if x >= threshold else 0 for x in numbers]\n",
        "numbers = list(map(float, input(\"Enter numbers: \").split()))\n",
        "threshold = float(input(\"Enter the threshold: \"))\n",
        "binarized_numbers = binarize(numbers, threshold)\n",
        "print(binarized_numbers)\n"
      ],
      "metadata": {
        "colab": {
          "base_uri": "https://localhost:8080/"
        },
        "id": "d9n_cYmomP6U",
        "outputId": "be5554e9-d4c4-4eb3-8db2-05c0ac791527"
      },
      "execution_count": null,
      "outputs": [
        {
          "output_type": "stream",
          "name": "stdout",
          "text": [
            "Enter numbers: 1.5 2.3 0.8 3.0\n",
            "Enter the threshold: 2.0\n",
            "[0, 1, 0, 1]\n"
          ]
        }
      ]
    },
    {
      "cell_type": "code",
      "source": [
        "def f(x):   #4th Question\n",
        "    return 2 * x + 3\n",
        "def approximate(inputs):\n",
        "    return [f(x) for x in inputs]\n",
        "inputs = [1, 2, 3]\n",
        "outputs = approximate(inputs)\n",
        "print(outputs)\n"
      ],
      "metadata": {
        "colab": {
          "base_uri": "https://localhost:8080/"
        },
        "id": "b93vpQ6imTqm",
        "outputId": "7d9b6740-6db6-4df1-c306-b349fe38152c"
      },
      "execution_count": null,
      "outputs": [
        {
          "output_type": "stream",
          "name": "stdout",
          "text": [
            "[5, 7, 9]\n"
          ]
        }
      ]
    },
    {
      "cell_type": "code",
      "source": [
        "def f(x):  #4th Question--User Input\n",
        "    return 2 * x + 3\n",
        "def approximate(inputs):\n",
        "    return [f(x) for x in inputs]\n",
        "inputs = list(map(int, input(\"Enter numbers: \").split()))\n",
        "outputs = approximate(inputs)\n",
        "print(outputs)\n"
      ],
      "metadata": {
        "colab": {
          "base_uri": "https://localhost:8080/"
        },
        "id": "J5staSXBmah6",
        "outputId": "51ed8a61-b9ce-494a-9c41-bf6fbfe3d739"
      },
      "execution_count": null,
      "outputs": [
        {
          "output_type": "stream",
          "name": "stdout",
          "text": [
            "Enter numbers: 1 2 3\n",
            "[5, 7, 9]\n"
          ]
        }
      ]
    },
    {
      "cell_type": "code",
      "source": [
        "import math #5th Question\n",
        "def standardize(numbers):\n",
        "    mean = sum(numbers) / len(numbers)\n",
        "    stdev = math.sqrt(sum((x - mean) ** 2 for x in numbers) / len(numbers))\n",
        "    return [(x - mean) / stdev for x in numbers]\n",
        "inputs = [10, 20, 30, 40]\n",
        "standardized_numbers = standardize(inputs)\n",
        "print(standardized_numbers)\n"
      ],
      "metadata": {
        "colab": {
          "base_uri": "https://localhost:8080/"
        },
        "id": "LbdOx50smcdQ",
        "outputId": "a5c75027-a743-42af-8094-509d770149da"
      },
      "execution_count": null,
      "outputs": [
        {
          "output_type": "stream",
          "name": "stdout",
          "text": [
            "[-1.3416407864998738, -0.4472135954999579, 0.4472135954999579, 1.3416407864998738]\n"
          ]
        }
      ]
    },
    {
      "cell_type": "code",
      "source": [
        "import math #5th Question--User Input\n",
        "def standardize(numbers):\n",
        "    mean = sum(numbers) / len(numbers)\n",
        "    stdev = math.sqrt(sum((x - mean) ** 2 for x in numbers) / len(numbers))\n",
        "    return [(x - mean) / stdev for x in numbers]\n",
        "user_input = input(\"Enter numbers: \")\n",
        "inputs = list(map(int, user_input.split()))\n",
        "standardized_numbers = standardize(inputs)\n",
        "print(f\"Standardized numbers: {standardized_numbers}\")"
      ],
      "metadata": {
        "colab": {
          "base_uri": "https://localhost:8080/"
        },
        "id": "PYTOefOTmfor",
        "outputId": "4d323973-f15a-4200-a2c6-0512f3f05c49"
      },
      "execution_count": null,
      "outputs": [
        {
          "output_type": "stream",
          "name": "stdout",
          "text": [
            "Enter numbers: 10 20 30 40\n",
            "Standardized numbers: [-1.3416407864998738, -0.4472135954999579, 0.4472135954999579, 1.3416407864998738]\n"
          ]
        }
      ]
    },
    {
      "cell_type": "code",
      "source": [
        "from collections import defaultdict #6th Question\n",
        "data = [1, 2, 3, 4, 5]\n",
        "labels = [\"A\", \"B\", \"A\", \"B\", \"A\"]\n",
        "concept_representation = defaultdict(list)\n",
        "for point, label in zip(data, labels):\n",
        "    concept_representation[label].append(point)\n",
        "concept_representation = dict(concept_representation)\n",
        "print(concept_representation)\n"
      ],
      "metadata": {
        "colab": {
          "base_uri": "https://localhost:8080/"
        },
        "id": "N1emF3LLmiP4",
        "outputId": "a59c6c78-5183-4f1f-c742-1f594cd83d40"
      },
      "execution_count": null,
      "outputs": [
        {
          "output_type": "stream",
          "name": "stdout",
          "text": [
            "{'A': [1, 3, 5], 'B': [2, 4]}\n"
          ]
        }
      ]
    },
    {
      "cell_type": "code",
      "source": [
        "from collections import defaultdict #6th Question--User Input\n",
        "user_data = input(\"Enter data points separated by spaces: \")\n",
        "user_labels = input(\"Enter labels corresponding to each data point: \")\n",
        "data = list(map(int, user_data.split()))\n",
        "labels = user_labels.split()\n",
        "concept_representation = defaultdict(list)\n",
        "for point, label in zip(data, labels):\n",
        "    concept_representation[label].append(point)\n",
        "concept_representation = dict(concept_representation)\n",
        "print(concept_representation)\n"
      ],
      "metadata": {
        "colab": {
          "base_uri": "https://localhost:8080/"
        },
        "id": "TciEqVz1mndW",
        "outputId": "9f540ed4-ec7c-4098-8c11-1a569993a22a"
      },
      "execution_count": null,
      "outputs": [
        {
          "output_type": "stream",
          "name": "stdout",
          "text": [
            "Enter data points separated by spaces: 1 2 3 4 5\n",
            "Enter labels corresponding to each data point: A B C D E\n",
            "{'A': [1], 'B': [2], 'C': [3], 'D': [4], 'E': [5]}\n"
          ]
        }
      ]
    },
    {
      "cell_type": "code",
      "source": [
        "def categorize_task(description): #7th Question\n",
        "    if \"predict\" in description.lower():\n",
        "        return \"Supervised Learning\"\n",
        "    else:\n",
        "        return \"Unsupervised Learning\"\n",
        "description = \"Predict the price of a house based on features like size, location, and age.\"\n",
        "category = categorize_task(description)\n",
        "print(category)\n"
      ],
      "metadata": {
        "colab": {
          "base_uri": "https://localhost:8080/"
        },
        "id": "_pKjwlLbmpxQ",
        "outputId": "7ead475d-f30b-4acf-8a81-2ac24f962397"
      },
      "execution_count": null,
      "outputs": [
        {
          "output_type": "stream",
          "name": "stdout",
          "text": [
            "Supervised Learning\n"
          ]
        }
      ]
    },
    {
      "cell_type": "code",
      "source": [
        "def categorize_task(description): #7th Question--User Input\n",
        "    if \"predict\" in description.lower():\n",
        "        return \"Supervised Learning\"\n",
        "    else:\n",
        "        return \"Unsupervised Learning\"\n",
        "description = input(\"Enter the machine learning task description: \")\n",
        "category = categorize_task(description)\n",
        "print(category)\n"
      ],
      "metadata": {
        "colab": {
          "base_uri": "https://localhost:8080/"
        },
        "id": "X0xn8iDOmxQu",
        "outputId": "6897d8eb-799d-41c8-8e97-4eefe3655003"
      },
      "execution_count": null,
      "outputs": [
        {
          "output_type": "stream",
          "name": "stdout",
          "text": [
            "Enter the machine learning task description: 0\n",
            "Unsupervised Learning\n"
          ]
        }
      ]
    },
    {
      "cell_type": "code",
      "source": [
        "def categorize_task(description): #8th Question\n",
        "    if \"predict\" in description.lower():\n",
        "        return \"Supervised Learning\"\n",
        "    else:\n",
        "        return \"Unsupervised Learning\"\n",
        "description = \"Group customers based on their purchasing patterns.\"\n",
        "category = categorize_task(description)\n",
        "print(category)\n"
      ],
      "metadata": {
        "colab": {
          "base_uri": "https://localhost:8080/"
        },
        "id": "rWaL6cb6nJ7V",
        "outputId": "5209cc72-53b5-4825-fcbd-8434151ff908"
      },
      "execution_count": null,
      "outputs": [
        {
          "output_type": "stream",
          "name": "stdout",
          "text": [
            "Unsupervised Learning\n"
          ]
        }
      ]
    },
    {
      "cell_type": "code",
      "source": [
        "def categorize_task(description):  #8th Question--User Input\n",
        "    if \"predict\" in description.lower():\n",
        "        return \"Supervised Learning\"\n",
        "    else:\n",
        "        return \"Unsupervised Learning\"\n",
        "description = input(\"Enter the machine learning task description: \")\n",
        "category = categorize_task(description)\n",
        "print(category)\n"
      ],
      "metadata": {
        "colab": {
          "base_uri": "https://localhost:8080/"
        },
        "id": "hyntwF8jnOCN",
        "outputId": "b530c077-d78e-404f-8abd-d48fa16c19c9"
      },
      "execution_count": null,
      "outputs": [
        {
          "output_type": "stream",
          "name": "stdout",
          "text": [
            "Enter the machine learning task description: 1\n",
            "Unsupervised Learning\n"
          ]
        }
      ]
    },
    {
      "cell_type": "code",
      "source": [
        "def predict_y(m, c, x): #9th Question\n",
        "    return m * x + c\n",
        "m = 1\n",
        "c = 2\n",
        "x = 3\n",
        "y = predict_y(m, c, x)\n",
        "print(y)"
      ],
      "metadata": {
        "colab": {
          "base_uri": "https://localhost:8080/"
        },
        "id": "FLvMdzrHnSCg",
        "outputId": "d4b2ee0a-4e35-465e-d68e-a89aec59d576"
      },
      "execution_count": null,
      "outputs": [
        {
          "output_type": "stream",
          "name": "stdout",
          "text": [
            "5\n"
          ]
        }
      ]
    },
    {
      "cell_type": "code",
      "source": [
        "def predict_y(m, c, x): #9th Question--User Input\n",
        "    return m * x + c\n",
        "m = float(input(\"Enter the slope (m): \"))\n",
        "c = float(input(\"Enter the y-intercept (c): \"))\n",
        "x = float(input(\"Enter the input value (x): \"))\n",
        "y = predict_y(m, c, x)\n",
        "print(y)\n"
      ],
      "metadata": {
        "colab": {
          "base_uri": "https://localhost:8080/"
        },
        "id": "-FtXXxD3nVfV",
        "outputId": "d3fb28cd-780c-42cc-ac73-248386d2516b"
      },
      "execution_count": null,
      "outputs": [
        {
          "output_type": "stream",
          "name": "stdout",
          "text": [
            "Enter the slope (m): 1\n",
            "Enter the y-intercept (c): 2\n",
            "Enter the input value (x): 3\n",
            "5.0\n"
          ]
        }
      ]
    },
    {
      "cell_type": "code",
      "source": [
        "def remove_duplicates_and_sort(data): #10th Question\n",
        "    return sorted(set(data))\n",
        "data = [4, 2, 2, 8, 3, 3, 1]\n",
        "result = remove_duplicates_and_sort(data)\n",
        "print(result)\n"
      ],
      "metadata": {
        "colab": {
          "base_uri": "https://localhost:8080/"
        },
        "id": "hDpzkUQ5nXcP",
        "outputId": "985d1e78-9b7f-41da-c785-fc089acca94f"
      },
      "execution_count": null,
      "outputs": [
        {
          "output_type": "stream",
          "name": "stdout",
          "text": [
            "[1, 2, 3, 4, 8]\n"
          ]
        }
      ]
    },
    {
      "cell_type": "code",
      "source": [
        "def remove_duplicates_and_sort(data): #10th Question--User Input\n",
        "    return sorted(set(data))\n",
        "user_input = input(\"Enter numbers separated by spaces: \")\n",
        "data = list(map(int, user_input.split()))\n",
        "result = remove_duplicates_and_sort(data)\n",
        "print(result)\n"
      ],
      "metadata": {
        "colab": {
          "base_uri": "https://localhost:8080/"
        },
        "id": "9e-XpCDInbsT",
        "outputId": "ab5e151d-a2ff-4e3b-9e88-fd651ad8c590"
      },
      "execution_count": null,
      "outputs": [
        {
          "output_type": "stream",
          "name": "stdout",
          "text": [
            "Enter numbers separated by spaces: 4 2 2 8 3 3 1\n",
            "[1, 2, 3, 4, 8]\n"
          ]
        }
      ]
    },
    {
      "cell_type": "code",
      "source": [
        "import pandas as pd #CASE-STUDY\n",
        "from sklearn.model_selection import train_test_split\n",
        "from sklearn.impute import SimpleImputer\n",
        "from sklearn.preprocessing import StandardScaler, OneHotEncoder\n",
        "from sklearn.compose import ColumnTransformer\n",
        "from sklearn.pipeline import Pipeline\n",
        "from sklearn.ensemble import RandomForestClassifier\n",
        "data = pd.DataFrame({\n",
        "    'Income': [50000, 60000, 55000, 45000, 70000],\n",
        "    'Loan_Amount': [100000, 150000, 120000, 90000, 180000],\n",
        "    'Credit_History': [1, 1, 0, 1, 0],\n",
        "    'Gender': ['Male', 'Female', 'Female', 'Male', 'Female'],\n",
        "    'Marital_Status': ['Single', 'Married', 'Married', 'Single', 'Married'],\n",
        "    'Education': ['Graduate', 'Non-Graduate', 'Graduate', 'Non-Graduate', 'Graduate'],\n",
        "    'Loan_Status': [1, 0, 1, 0, 1]\n",
        "})\n",
        "X = data.drop('Loan_Status', axis=1)\n",
        "y = data['Loan_Status']\n",
        "numerical_features = ['Income', 'Loan_Amount', 'Credit_History']\n",
        "categorical_features = ['Gender', 'Marital_Status', 'Education']\n",
        "numerical_transformer = Pipeline(steps=[\n",
        "    ('imputer', SimpleImputer(strategy='mean')),\n",
        "    ('scaler', StandardScaler())\n",
        "])\n",
        "categorical_transformer = Pipeline(steps=[\n",
        "    ('imputer', SimpleImputer(strategy='most_frequent')),\n",
        "    ('onehot', OneHotEncoder(handle_unknown='ignore'))\n",
        "])\n",
        "preprocessor = ColumnTransformer(\n",
        "    transformers=[\n",
        "        ('num', numerical_transformer, numerical_features),\n",
        "        ('cat', categorical_transformer, categorical_features)\n",
        "    ]\n",
        ")\n",
        "model = Pipeline(steps=[\n",
        "    ('preprocessor', preprocessor),\n",
        "    ('classifier', RandomForestClassifier())\n",
        "])\n",
        "X_train, X_test, y_train, y_test = train_test_split(X, y, test_size=0.3, random_state=42)\n",
        "model.fit(X_train, y_train)\n",
        "accuracy = model.score(X_test, y_test)\n",
        "print(accuracy)"
      ],
      "metadata": {
        "colab": {
          "base_uri": "https://localhost:8080/"
        },
        "id": "DQ3pdzbznhNs",
        "outputId": "8c2e0aa4-00e6-42e7-f2cc-76d1254ddc7f"
      },
      "execution_count": null,
      "outputs": [
        {
          "output_type": "stream",
          "name": "stdout",
          "text": [
            "0.5\n"
          ]
        }
      ]
    },
    {
      "cell_type": "code",
      "source": [
        "import pandas as pd #CASE-STUDY(USER INPUT)\n",
        "from sklearn.model_selection import train_test_split\n",
        "from sklearn.impute import SimpleImputer\n",
        "from sklearn.preprocessing import StandardScaler, OneHotEncoder\n",
        "from sklearn.compose import ColumnTransformer\n",
        "from sklearn.pipeline import Pipeline\n",
        "from sklearn.ensemble import RandomForestClassifier\n",
        "def input_data():\n",
        "    income = float(input(\"Enter Income: \"))\n",
        "    loan_amount = float(input(\"Enter Loan Amount: \"))\n",
        "    credit_history = int(input(\"Enter Credit History (1 for good, 0 for bad): \"))\n",
        "    gender = input(\"Enter Gender (Male/Female): \")\n",
        "    marital_status = input(\"Enter Marital Status (Single/Married): \")\n",
        "    education = input(\"Enter Education Level (Graduate/Non-Graduate): \")\n",
        "\n",
        "    data = pd.DataFrame({\n",
        "        'Income': [income],\n",
        "        'Loan_Amount': [loan_amount],\n",
        "        'Credit_History': [credit_history],\n",
        "        'Gender': [gender],\n",
        "        'Marital_Status': [marital_status],\n",
        "        'Education': [education]\n",
        "    })\n",
        "    return data\n",
        "data = pd.DataFrame({\n",
        "    'Income': [50000, 60000, 55000, 45000, 70000],\n",
        "    'Loan_Amount': [100000, 150000, 120000, 90000, 180000],\n",
        "    'Credit_History': [1, 1, 0, 1, 0],\n",
        "    'Gender': ['Male', 'Female', 'Female', 'Male', 'Female'],\n",
        "    'Marital_Status': ['Single', 'Married', 'Married', 'Single', 'Married'],\n",
        "    'Education': ['Graduate', 'Non-Graduate', 'Graduate', 'Non-Graduate', 'Graduate'],\n",
        "    'Loan_Status': [1, 0, 1, 0, 1]\n",
        "})\n",
        "X = data.drop('Loan_Status', axis=1)\n",
        "y = data['Loan_Status']\n",
        "numerical_features = ['Income', 'Loan_Amount', 'Credit_History']\n",
        "categorical_features = ['Gender', 'Marital_Status', 'Education']\n",
        "numerical_transformer = Pipeline(steps=[\n",
        "    ('imputer', SimpleImputer(strategy='mean')),\n",
        "    ('scaler', StandardScaler())\n",
        "])\n",
        "categorical_transformer = Pipeline(steps=[\n",
        "    ('imputer', SimpleImputer(strategy='most_frequent')),\n",
        "    ('onehot', OneHotEncoder(handle_unknown='ignore'))\n",
        "])\n",
        "preprocessor = ColumnTransformer(\n",
        "    transformers=[\n",
        "        ('num', numerical_transformer, numerical_features),\n",
        "        ('cat', categorical_transformer, categorical_features)\n",
        "    ]\n",
        ")\n",
        "model = Pipeline(steps=[\n",
        "    ('preprocessor', preprocessor),\n",
        "    ('classifier', RandomForestClassifier())\n",
        "])\n",
        "X_train, X_test, y_train, y_test = train_test_split(X, y, test_size=0.3, random_state=42)\n",
        "model.fit(X_train, y_train)\n",
        "accuracy = model.score(X_test, y_test)\n",
        "print(f\"Model accuracy: {accuracy}\")\n",
        "user_data = input_data()\n",
        "prediction = model.predict(user_data)\n",
        "print(\"Loan Approval Prediction (1: Approved, 0: Rejected):\", prediction)\n"
      ],
      "metadata": {
        "colab": {
          "base_uri": "https://localhost:8080/"
        },
        "id": "FN8Nlvwlnmtl",
        "outputId": "32698a7e-e224-4e73-d9f2-1dcff9823633"
      },
      "execution_count": null,
      "outputs": [
        {
          "output_type": "stream",
          "name": "stdout",
          "text": [
            "Model accuracy: 0.5\n",
            "Enter Income: 10000000\n",
            "Enter Loan Amount: 1000000\n",
            "Enter Credit History (1 for good, 0 for bad): 1\n",
            "Enter Gender (Male/Female): Male\n",
            "Enter Marital Status (Single/Married): Single\n",
            "Enter Education Level (Graduate/Non-Graduate): Graduate\n",
            "Loan Approval Prediction (1: Approved, 0: Rejected): [1]\n"
          ]
        }
      ]
    },
    {
      "cell_type": "code",
      "source": [],
      "metadata": {
        "id": "D3PE8vMXnqmD"
      },
      "execution_count": null,
      "outputs": []
    }
  ]
}